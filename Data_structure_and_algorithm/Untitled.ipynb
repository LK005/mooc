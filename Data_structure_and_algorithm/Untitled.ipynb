{
 "cells": [
  {
   "cell_type": "code",
   "execution_count": 3,
   "metadata": {},
   "outputs": [
    {
     "name": "stdout",
     "output_type": "stream",
     "text": [
      "abcab eee\n"
     ]
    }
   ],
   "source": [
    "str,substr = input().split()"
   ]
  },
  {
   "cell_type": "code",
   "execution_count": 5,
   "metadata": {},
   "outputs": [
    {
     "data": {
      "text/plain": [
       "'abceeeab'"
      ]
     },
     "execution_count": 5,
     "metadata": {},
     "output_type": "execute_result"
    }
   ],
   "source": [
    "strm = max(list(str))\n",
    "out = str[:str.index(strm)+1]+substr+str[str.index(strm)+1:]\n",
    "print(out)"
   ]
  },
  {
   "cell_type": "code",
   "execution_count": null,
   "metadata": {},
   "outputs": [],
   "source": [
    "#约瑟夫问题———猴王"
   ]
  },
  {
   "cell_type": "code",
   "execution_count": 33,
   "metadata": {},
   "outputs": [
    {
     "name": "stdout",
     "output_type": "stream",
     "text": [
      "18 2\n"
     ]
    }
   ],
   "source": [
    "n,m = input().split()\n",
    "num = list(range(1,int(n)+1))"
   ]
  },
  {
   "cell_type": "code",
   "execution_count": 55,
   "metadata": {},
   "outputs": [],
   "source": [
    "num1 = [1, 2, 3, 4, 5, 6, 7, 8]"
   ]
  },
  {
   "cell_type": "code",
   "execution_count": 56,
   "metadata": {
    "scrolled": false
   },
   "outputs": [
    {
     "name": "stdout",
     "output_type": "stream",
     "text": [
      "[1, 0, 3, 4, 5, 6, 7, 8]\n",
      "[1, 0, 3, 0, 5, 6, 7, 8]\n",
      "[1, 0, 3, 0, 5, 0, 7, 8]\n",
      "[1, 0, 3, 0, 5, 0, 7, 0]\n",
      "[1, 0, 0, 0, 5, 0, 7, 0]\n",
      "[1, 0, 0, 0, 5, 0, 0, 0]\n",
      "[1, 0, 0, 0, 0, 0, 0, 0]\n",
      "4\n",
      "1\n"
     ]
    }
   ],
   "source": [
    "lennum = len(num1)\n",
    "i = 0\n",
    "count = 0\n",
    "count0 = 0\n",
    "while True:\n",
    "    index = i%lennum\n",
    "#     print(index,end=' ')\n",
    "    if num1[index] != 0:\n",
    "        count += 1\n",
    "        if count == int(m):\n",
    "            count = 0\n",
    "            num1[index] = 0\n",
    "            print(num1)\n",
    "            count0 += 1\n",
    "            if count0 == lennum - 1:\n",
    "                print(index)\n",
    "                break\n",
    "            i += 1\n",
    "        else:\n",
    "            i += 1\n",
    "    else:\n",
    "        i += 1\n",
    "print([num1.index(x) for x in num1 if x != 0][0]+1)\n",
    "# print(num1)"
   ]
  },
  {
   "cell_type": "code",
   "execution_count": 12,
   "metadata": {},
   "outputs": [
    {
     "data": {
      "text/plain": [
       "81"
      ]
     },
     "execution_count": 12,
     "metadata": {},
     "output_type": "execute_result"
    }
   ],
   "source": [
    "sum(num)"
   ]
  }
 ],
 "metadata": {
  "kernelspec": {
   "display_name": "Python 3",
   "language": "python",
   "name": "python3"
  },
  "language_info": {
   "codemirror_mode": {
    "name": "ipython",
    "version": 3
   },
   "file_extension": ".py",
   "mimetype": "text/x-python",
   "name": "python",
   "nbconvert_exporter": "python",
   "pygments_lexer": "ipython3",
   "version": "3.6.5"
  }
 },
 "nbformat": 4,
 "nbformat_minor": 2
}
